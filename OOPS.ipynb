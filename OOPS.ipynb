{
  "nbformat": 4,
  "nbformat_minor": 0,
  "metadata": {
    "colab": {
      "provenance": []
    },
    "kernelspec": {
      "name": "python3",
      "display_name": "Python 3"
    },
    "language_info": {
      "name": "python"
    }
  },
  "cells": [
    {
      "cell_type": "markdown",
      "source": [
        "1.  What is Object-Oriented Programming (OOP)?\n",
        " -  Object-Oriented Programming, or OOP, is a way of writing code where you think of everything as objects, just like in real life. For example, if you're building a game or an app, you can think of the characters, buttons, or even data as objects. Each object has its own data (called properties) and actions it can do (called methods). OOP helps organize code so it's easier to understand, reuse, and update. It works like building blocks—you create small parts and then connect them together to build big things in a clean and manageable way.\n",
        "\n",
        "2. What is a class in OOP?\n",
        " -In Object-Oriented Programming, a class is like a blueprint or template for creating objects. It defines what an object will be like—what data it will have (called attributes) and what actions it can perform (called methods).\n",
        "Think of a class like a recipe for making a cake. The recipe itself isn’t the cake, but it tells you how to make one. Similarly, a class isn’t the object, but you use it to create objects.\n",
        "For example, if you have a class called Car, it might have attributes like color, model, and speed, and methods like drive() or brake(). You can then create many Car objects from that one class, each with different values for those attributes.   \n",
        "\n",
        "3.  What is an object in OOP?\n",
        " - In Object-Oriented Programming, an object is a real-world instance created from a class. It is like the actual thing made using the blueprint (class).\n",
        " For example, if you have a class called Dog, it describes what a dog is—like it has a name, a color, and it can bark. But when you actually create a dog in your program, like a dog named \"Tommy\" with brown color, that’s an object.\n",
        "So, an object has its own specific data (like name = \"Tommy\") and can perform actions (like bark()). You can make many different dog objects from the same Dog class, and each one can be different.\n",
        "\n",
        "4. What is the difference between abstraction and encapsulation?\n",
        "- The difference between abstraction and encapsulation in simple words is:\n",
        "\n",
        "  Abstraction means hiding the complex details and only showing the essential things to the user. It's like using a mobile phone—you can make calls and send messages without knowing how the phone works inside.\n",
        "\n",
        "  Encapsulation means hiding the data inside an object and allowing access to it only through specific methods. It’s like medicine in a capsule—you can’t see or directly touch the powder inside, but you can take it safely. In programming, this protects the data and keeps it safe from being changed accidentally. So, abstraction hides \"what\" is happening, and encapsulation hides \"how\" it is happening.\n",
        "\n",
        "5. What are dunder methods in Python?\n",
        "  - In Python, dunder methods (short for double underscore methods) are special built-in methods that have double underscores at the beginning and end of their names, like __init__, __str__, or __len__.These methods are used to define how objects of a class should behave with basic Python operations. For example:__init__ is called automatically when you create a new object (used for initialization).\n",
        "   __str__ is called when you use print() on an object (used to return a string version).\n",
        "  __add__ is called when you use the + operator.\n",
        "   These methods make your custom classes behave more like Python's built-in types.  \n",
        "\n",
        "6. Explain the concept of inheritance in OOP.\n",
        "  - In Object-Oriented Programming, inheritance means one class can take or reuse the features (like properties and methods) of another class. It’s like a child inheriting qualities from their parents.\n",
        "  The class that gives its features is called the parent class (or base class), and the class that receives them is called the child class (or derived class).\n",
        "   For example, imagine a parent class called Animal with a method speak(). Now you can create a child class called Dog that inherits from Animal. The Dog class can use the speak() method from Animal, and also have its own extra methods like bark().This helps avoid repeating the same code and makes programs easier to manage.   \n",
        "\n",
        "7. What is polymorphism in OOP?\n",
        "  -In Object-Oriented Programming, polymorphism means \"many forms\"—it allows the same function or method to work in different ways depending on the object that is using it.In simple words, different classes can have methods with the same name, but they can behave differently. This helps you write flexible and reusable code.\n",
        "  For example, imagine you have two classes: Dog and Cat, and both have a method called speak(). Even though the method name is the same, the output can be different for each class.    \n",
        "\n",
        "8.  How is encapsulation achieved in Python?\n",
        " - Encapsulation in Python is achieved by keeping the data (variables) private and allowing access or modification only through public methods (also called getters and setters). This protects the data from being directly changed from outside the class. In Python, you can make an attribute:Public – can be accessed from anywhere (e.g., self.name) Private – cannot be accessed directly from outside the class, by using double underscores (e.g., self.__name)\n",
        "  \n",
        "\n",
        "9.  What is a constructor in Python?  \n",
        "  -In Python, a constructor is a special method that is automatically called when a new object is created from a class. Its main job is to initialize the object’s data (set values to variables when the object is made).\n",
        "  In Python, the constructor method is named __init__.\n",
        "\n",
        "10. What are class and static methods in Python?  \n",
        "  -In Python, a class method is a method that is bound to the class, not the object. It can access and modify class-level data and is defined using the @classmethod decorator. The first parameter of a class method is cls, which represents the class itself.A static method, on the other hand, is a method that is not bound to either the object or the class. It doesn't have access to the object's or class's data. Static methods are defined using the @staticmethod decorator and behave like regular functions but are placed inside the class for organizational purposes.\n",
        "\n",
        "11.  What is method overloading in Python?\n",
        "  -In Python, method overloading refers to the ability to define multiple methods with the same name but different parameters (such as different numbers or types of arguments). However, Python does not support traditional method overloading like some other languages (e.g., Java or C++).Instead, in Python, if you define multiple methods with the same name, the last one will overwrite the previous ones. But you can still achieve similar behavior using default arguments, variable-length arguments, or by using conditional logic within a method to handle different types or numbers of arguments.\n",
        "  For example, you can write a method that behaves differently depending on the number of arguments passed to it.\n",
        "  \n",
        "12. What is method overriding in OOP?\n",
        " - Method overriding in Object-Oriented Programming (OOP) occurs when a subclass provides its own version of a method that is already defined in its parent class. The method in the subclass has the same name, same parameters, and same return type as the one in the parent class, but it can have a different implementation.This allows the subclass to change or extend the behavior of the inherited method.In simple terms, method overriding allows a child class to replace or modify the behavior of a parent class's method with its own version.For example, in Python, method overriding happens when a subclass redefines a method that was inherited from the superclass.\n",
        " Key points:\n",
        "  The method in the child class must have the same name and parameters as the method in the parent class.\n",
        "  The child class can provide its own specific implementation while keeping the same method signature.\n",
        "\n",
        "13. What is a property decorator in Python?\n",
        "  -In Python, the property decorator is used to define methods that act like attributes. This allows you to control the access to an attribute (get, set, and delete), without directly modifying the attribute itself. With the @property decorator, you can make a method behave like an attribute, so you can access it using dot notation, just like a regular attribute, but still have control over its value. You can also define setter and deleter methods for a property.  \n",
        "\n",
        "14.  Why is polymorphism important in OOP?\n",
        "  - Polymorphism is important in Object-Oriented Programming (OOP) because it enhances the flexibility and extensibility of code. Here's why it's valuable:\n",
        "\n",
        "Code Reusability: Polymorphism allows you to use the same method or function across different classes. This reduces code duplication because you can write a single function that works with objects of different classes, as long as they share a common interface or method name.\n",
        "\n",
        "Flexibility and Maintainability: Polymorphism enables you to change or extend functionality without altering the code that uses polymorphic methods. For example, if you have a function that works with multiple types of objects, adding a new type won't require changes to the existing code, making your code more flexible and easier to maintain.\n",
        "\n",
        "Simplifying Code: Polymorphism helps simplify code by letting you treat different types of objects uniformly. This reduces the complexity, especially when dealing with objects from different classes that share a common base class or method signature.\n",
        "\n",
        "Supports Dynamic Method Binding: Polymorphism allows dynamic method binding, meaning that the method which gets called is determined at runtime based on the object type. This enables more dynamic and adaptable code, especially when working with complex systems.\n",
        "\n",
        "Improves Extensibility: Polymorphism makes it easier to extend your program by adding new classes that work with existing code. You don't need to modify the core logic to handle new types of objects, which supports the Open/Closed Principle (open for extension, closed for modification).\n",
        "\n",
        "15.   What is an abstract class in Python?\n",
        " - In Python, an abstract class is a class that cannot be instantiated directly. It serves as a blueprint for other classes. The main purpose of an abstract class is to define common interfaces or methods that must be implemented by subclasses, but without providing the complete implementation in the abstract class itself.\n",
        "\n",
        " Abstract classes are used to enforce that certain methods must be created within any subclass derived from the abstract class. You create abstract classes using the abc module in Python, which stands for Abstract Base Class.\n",
        "\n",
        " Key Features of Abstract Classes:\n",
        " Abstract methods: These are methods that are declared in the abstract class but do not have an implementation. Subclasses are required to implement these methods.\n",
        "Cannot be instantiated: You cannot create an instance of an abstract class directly; it must be subclassed.\n",
        "\n",
        " Use of abc module: The abc (Abstract Base Class) module provides the necessary tools to define and work with abstract classes in Python.\n",
        "16.  What are the advantages of OOP?\n",
        " - The main advantage of Object-Oriented Programming (OOP) is that it allows you to model real-world problems in a way that is easy to understand and manage. It helps organize code by grouping related properties and behaviors into classes and objects, making it more modular and easier to maintain. Since OOP encourages reusability, once you write a class, you can use it in different parts of your program or even in other projects without rewriting code. It also makes it easier to manage large software projects by breaking them down into smaller, manageable pieces, which improves collaboration among developers. Additionally, OOP allows you to modify or extend parts of a program without affecting other parts, making it more flexible and adaptable.\n",
        "\n",
        "17. What is the difference between a class variable and an instance variable?\n",
        "  - In Python, the main difference between class variables and instance variables lies in their scope and how they are shared.A class variable is a variable that is shared across all instances of a class. This means that if you change the value of a class variable in one instance, the change will be reflected in all other instances of the class. Class variables are defined inside the class, but outside any methods. They are accessed using the class name or through an instance, though it's more common to access them through the class name. An instance variable, on the other hand, is specific to each instance (object) of the class. Each object created from the class can have its own value for the instance variable. Instance variables are defined inside methods, typically inside the __init__ constructor method, and are accessed through the instance (object) of the class.In simple terms, class variables are shared across all objects, while instance variables are unique to each object.\n",
        "18. What is multiple inheritance in Python?\n",
        " - Multiple inheritance in Python is a feature where a class can inherit from more than one parent class. This means that a child class can access the attributes and methods from multiple classes, which allows you to combine the behavior and characteristics of more than one class into a single class. This can be useful when you want to create a class that combines features from different classes without needing to rewrite code. When a class inherits from multiple parent classes, Python follows a method resolution order (MRO) to decide which method to call when there are conflicts between methods with the same name in the parent classes. This allows for a more flexible and reusable design but can also lead to complexities if not handled carefully, especially in cases where multiple parent classes have conflicting behaviors.\n",
        "\n",
        " 19. Explain the purpose of ‘’__str__’ and ‘__repr__’ ‘ methods in Python.\n",
        "   - In Python, the __str__ and __repr__ methods are used to define how objects of a class should be represented as strings, but they serve slightly different purposes.The __str__ method is meant to provide a user-friendly or informal string representation of an object. This method is used when you print an object or convert it to a string (like with str() or print()). The goal of __str__ is to return a string that is easy to understand for a human user. On the other hand, the __repr__ method is meant to provide a formal or developer-friendly string representation of an object. This method is used when you call repr() on an object, or when you type the object in an interactive interpreter (e.g., in a Python shell). The goal of __repr__ is to return a string that would allow the object to be reconstructed or give more detailed, unambiguous information about it. Ideally, __repr__ should return a string that could be used to recreate the object using eval().\n",
        "   If you don’t define __str__ in a class, Python will fall back on __repr__ to give a string representation of the object.\n",
        "\n",
        "   20. What is the significance of the ‘super()’ function in Python?\n",
        "    - The super() function in Python is used to call methods from a parent class (also known as the superclass) in a child class. It allows a child class to access and invoke methods from its parent class, typically when the child class overrides those methods. The primary significance of super() is that it provides a way to call the parent class's methods in a cleaner and more maintainable way, especially in the context of inheritance.One of the key uses of super() is in method overriding. When a child class overrides a method from its parent, it can still call the parent class's version of that method using super(). This is helpful when you want to extend or modify the functionality of a parent method, rather than completely replacing it.The super() function also plays a role in multiple inheritance by ensuring that the methods from all parent classes are called in the correct order according to the method resolution order (MRO).\n",
        "\n",
        "21.  What is the significance of the __del__ method in Python?\n",
        "- The __del__ method in Python is a special method known as the destructor. It is called when an object is about to be destroyed, which typically happens when there are no more references to the object, and it is being garbage collected. The primary purpose of the __del__ method is to allow for any necessary cleanup or resource management before the object is removed from memory.For example, if an object is managing external resources like file handles, network connections, or database connections, the __del__ method provides a way to ensure that those resources are properly closed or released before the object is destroyed.However, it is important to note that relying on __del__ for cleanup can be tricky because the exact timing of when it is called is not guaranteed (it depends on the garbage collection process). Therefore, it's generally better to use context managers (with the with statement) or explicit cleanup methods rather than relying solely on __del__ for critical cleanup.\n",
        "\n",
        "22. What is the difference between @staticmethod and @classmethod in Python?\n",
        " - In Python, @staticmethod and @classmethod are both used to define methods that aren't tied to a specific instance of a class, but they behave differently.A @staticmethod is a method that doesn't take any reference to the class or instance (like self or cls). It's essentially a function that belongs to the class but doesn't need to interact with the class or instance data. You use it when you want a method that doesn't depend on the instance or class but still makes sense to be part of the class.On the other hand, a @classmethod is a method that takes the class itself as its first argument (cls). This allows the method to access or modify class-level attributes. It can be used when you need to interact with the class itself rather than an individual instance.\n",
        "\n",
        "23. How does polymorphism work in Python with inheritance?\n",
        "  - Polymorphism in Python allows objects of different classes to be treated as objects of a common superclass. This means that the same method or function can behave differently depending on the object calling it. When inheritance is involved, polymorphism lets a child class override a method from its parent class, and when the method is called on an object, the child class version of the method is executed, not the parent class's.This allows you to write more flexible and reusable code. The same function or method can work with objects of different types, and Python will automatically choose the correct method based on the object type. For example, if two classes inherit from a common base class but have their own versions of a method, calling that method on an object will invoke the version that belongs to the object's class, not necessarily the parent class.\n",
        "\n",
        "24. What is method chaining in Python OOP?\n",
        " - Method chaining in Python refers to the practice of calling multiple methods on the same object in a single line of code. This is possible because each method returns the object itself (or another object) that allows further method calls on it. In object-oriented programming, method chaining makes the code more concise and readable.To achieve method chaining, each method in the class typically returns self, which is the current instance of the class. This allows another method to be called on that same instance without needing to refer to the object explicitly again.\n",
        " For example, you can chain method calls like obj.method1().method2().method3() because each method in the chain returns the object that allows the next method to be called.\n",
        "\n",
        "25. What is the purpose of the __call__ method in Python?\n",
        "  - The __call__ method in Python allows an instance of a class to be called as if it were a function. It enables objects to behave like functions. When you define __call__ in a class, calling an instance of that class will invoke the __call__ method.\n",
        "\n",
        "\n",
        "\n",
        "\n",
        "\n",
        "\n",
        "\n",
        "\n",
        "\n",
        "\n",
        "\n",
        "  "
      ],
      "metadata": {
        "id": "Pb2i4Q4gkE09"
      }
    },
    {
      "cell_type": "code",
      "source": [
        "#practical question\n",
        " # Q1: Create a parent class Animal with a method speak() that prints a generic message.\n",
        "# Create a child class Dog that overrides the speak() method to print \"Bark!\".\n",
        "\n",
        "class Animal:\n",
        "    def speak(self):\n",
        "        print(\"Some generic animal sound\")\n",
        "\n",
        "class Dog(Animal):\n",
        "    def speak(self):\n",
        "        print(\"Bark!\")\n",
        "\n",
        "dog = Dog()\n",
        "dog.speak()\n"
      ],
      "metadata": {
        "colab": {
          "base_uri": "https://localhost:8080/"
        },
        "id": "AdEZvKGIst-F",
        "outputId": "8bb06c9b-8cd0-482b-c9a7-b85ddf623ab9"
      },
      "execution_count": 1,
      "outputs": [
        {
          "output_type": "stream",
          "name": "stdout",
          "text": [
            "Bark!\n"
          ]
        }
      ]
    },
    {
      "cell_type": "code",
      "source": [
        "# Q2: Write a program to create an abstract class Shape with a method area().\n",
        "# Derive classes Circle and Rectangle from it and implement the area() method in both.\n",
        "\n",
        "from abc import ABC, abstractmethod\n",
        "import math\n",
        "\n",
        "class Shape(ABC):\n",
        "    @abstractmethod\n",
        "    def area(self):\n",
        "        pass\n",
        "\n",
        "class Circle(Shape):\n",
        "    def __init__(self, radius):\n",
        "        self.radius = radius\n",
        "\n",
        "    def area(self):\n",
        "        return math.pi * self.radius ** 2\n",
        "\n",
        "class Rectangle(Shape):\n",
        "    def __init__(self, length, width):\n",
        "        self.length = length\n",
        "        self.width = width\n",
        "\n",
        "    def area(self):\n",
        "        return self.length * self.width\n",
        "\n",
        "circle = Circle(5)\n",
        "rectangle = Rectangle(4, 6)\n",
        "print(\"Circle area:\", circle.area())\n",
        "print(\"Rectangle area:\", rectangle.area())\n"
      ],
      "metadata": {
        "id": "aKqI7WqHs7LK"
      },
      "execution_count": null,
      "outputs": []
    },
    {
      "cell_type": "code",
      "source": [
        "# Q3: Implement a multi-level inheritance scenario\n",
        "\n",
        "class Vehicle:\n",
        "    def __init__(self, type):\n",
        "        self.type = type\n",
        "\n",
        "class Car(Vehicle):\n",
        "    def __init__(self, type, brand):\n",
        "        super().__init__(type)\n",
        "        self.brand = brand\n",
        "\n",
        "class ElectricCar(Car):\n",
        "    def __init__(self, type, brand, battery):\n",
        "        super().__init__(type, brand)\n",
        "        self.battery = battery\n",
        "\n",
        "ecar = ElectricCar(\"Electric\", \"Tesla\", \"100 kWh\")\n",
        "print(ecar.type, ecar.brand, ecar.battery)\n"
      ],
      "metadata": {
        "id": "waC28O45s_Y2"
      },
      "execution_count": null,
      "outputs": []
    },
    {
      "cell_type": "code",
      "source": [
        "# Q4: Demonstrate polymorphism with Bird classes\n",
        "\n",
        "class Bird:\n",
        "    def fly(self):\n",
        "        print(\"Bird is flying\")\n",
        "\n",
        "class Sparrow(Bird):\n",
        "    def fly(self):\n",
        "        print(\"Sparrow can fly high\")\n",
        "\n",
        "class Penguin(Bird):\n",
        "    def fly(self):\n",
        "        print(\"Penguins cannot fly\")\n",
        "\n",
        "birds = [Sparrow(), Penguin()]\n",
        "for bird in birds:\n",
        "    bird.fly()\n"
      ],
      "metadata": {
        "id": "fHdjVypotE4_"
      },
      "execution_count": null,
      "outputs": []
    },
    {
      "cell_type": "code",
      "source": [
        "# Q5: Encapsulation example\n",
        "\n",
        "class BankAccount:\n",
        "    def __init__(self):\n",
        "        self.__balance = 0\n",
        "\n",
        "    def deposit(self, amount):\n",
        "        self.__balance += amount\n",
        "\n",
        "    def withdraw(self, amount):\n",
        "        if amount <= self.__balance:\n",
        "            self.__balance -= amount\n",
        "        else:\n",
        "            print(\"Insufficient balance\")\n",
        "\n",
        "    def check_balance(self):\n",
        "        return self.__balance\n",
        "\n",
        "acc = BankAccount()\n",
        "acc.deposit(1000)\n",
        "acc.withdraw(200)\n",
        "print(\"Balance:\", acc.check_balance())\n"
      ],
      "metadata": {
        "id": "VO9IGkZ_tE1k"
      },
      "execution_count": null,
      "outputs": []
    },
    {
      "cell_type": "code",
      "source": [
        "# Q6: Demonstrate runtime polymorphism using Instrument\n",
        "\n",
        "class Instrument:\n",
        "    def play(self):\n",
        "        print(\"Instrument is playing\")\n",
        "\n",
        "class Guitar(Instrument):\n",
        "    def play(self):\n",
        "        print(\"Playing guitar\")\n",
        "\n",
        "class Piano(Instrument):\n",
        "    def play(self):\n",
        "        print(\"Playing piano\")\n",
        "\n",
        "instruments = [Guitar(), Piano()]\n",
        "for instrument in instruments:\n",
        "    instrument.play()\n"
      ],
      "metadata": {
        "id": "Pcse-haQtEyE"
      },
      "execution_count": null,
      "outputs": []
    },
    {
      "cell_type": "code",
      "source": [
        "# Q7: Class method and static method example\n",
        "\n",
        "class MathOperations:\n",
        "    @classmethod\n",
        "    def add_numbers(cls, a, b):\n",
        "        return a + b\n",
        "\n",
        "    @staticmethod\n",
        "    def subtract_numbers(a, b):\n",
        "        return a - b\n",
        "\n",
        "print(\"Addition:\", MathOperations.add_numbers(10, 5))\n",
        "print(\"Subtraction:\", MathOperations.subtract_numbers(10, 5))\n"
      ],
      "metadata": {
        "id": "Ky6bTWq_tEu6"
      },
      "execution_count": null,
      "outputs": []
    },
    {
      "cell_type": "code",
      "source": [
        "# Q8: Class method to count instances\n",
        "\n",
        "class Person:\n",
        "    count = 0\n",
        "\n",
        "    def __init__(self, name):\n",
        "        self.name = name\n",
        "        Person.count += 1\n",
        "\n",
        "    @classmethod\n",
        "    def total_persons(cls):\n",
        "        return cls.count\n",
        "\n",
        "p1 = Person(\"Alice\")\n",
        "p2 = Person(\"Bob\")\n",
        "print(\"Total persons created:\", Person.total_persons())\n"
      ],
      "metadata": {
        "id": "2TsfhQ6otErM"
      },
      "execution_count": null,
      "outputs": []
    },
    {
      "cell_type": "code",
      "source": [
        "# Q9: Override str to show fraction format\n",
        "\n",
        "class Fraction:\n",
        "    def __init__(self, numerator, denominator):\n",
        "        self.numerator = numerator\n",
        "        self.denominator = denominator\n",
        "\n",
        "    def __str__(self):\n",
        "        return f\"{self.numerator}/{self.denominator}\"\n",
        "\n",
        "f = Fraction(3, 4)\n",
        "print(f)\n"
      ],
      "metadata": {
        "id": "b610hiBptEnw"
      },
      "execution_count": null,
      "outputs": []
    },
    {
      "cell_type": "code",
      "source": [
        "# Q10: Operator overloading with Vector class\n",
        "\n",
        "class Vector:\n",
        "    def __init__(self, x, y):\n",
        "        self.x = x\n",
        "        self.y = y\n",
        "\n",
        "    def __add__(self, other):\n",
        "        return Vector(self.x + other.x, self.y + other.y)\n",
        "\n",
        "    def __str__(self):\n",
        "        return f\"Vector({self.x}, {self.y})\"\n",
        "\n",
        "v1 = Vector(2, 3)\n",
        "v2 = Vector(4, 5)\n",
        "v3 = v1 + v2\n",
        "print(v3)\n"
      ],
      "metadata": {
        "id": "is-2Um8NtEjw"
      },
      "execution_count": null,
      "outputs": []
    },
    {
      "cell_type": "code",
      "source": [
        "# Q11: Person with greet method\n",
        "\n",
        "class Person:\n",
        "    def __init__(self, name, age):\n",
        "        self.name = name\n",
        "        self.age = age\n",
        "\n",
        "    def greet(self):\n",
        "        print(f\"Hello, my name is {self.name} and I am {self.age} years old.\")\n",
        "\n",
        "p = Person(\"John\", 30)\n",
        "p.greet()\n"
      ],
      "metadata": {
        "id": "sDgymDF_tEdv"
      },
      "execution_count": null,
      "outputs": []
    },
    {
      "cell_type": "code",
      "source": [
        "# Q12: Compute average of grades\n",
        "\n",
        "class Student:\n",
        "    def __init__(self, name, grades):\n",
        "        self.name = name\n",
        "        self.grades = grades\n",
        "\n",
        "    def average_grade(self):\n",
        "        return sum(self.grades) / len(self.grades)\n",
        "\n",
        "s = Student(\"Alice\", [85, 90, 78])\n",
        "print(\"Average grade:\", s.average_grade())\n"
      ],
      "metadata": {
        "id": "mYtxAIjQtEaR"
      },
      "execution_count": null,
      "outputs": []
    },
    {
      "cell_type": "code",
      "source": [
        "# Q13: Rectangle with set_dimensions and area\n",
        "\n",
        "class Rectangle:\n",
        "    def set_dimensions(self, length, width):\n",
        "        self.length = length\n",
        "        self.width = width\n",
        "\n",
        "    def area(self):\n",
        "        return self.length * self.width\n",
        "\n",
        "r = Rectangle()\n",
        "r.set_dimensions(5, 3)\n",
        "print(\"Area of rectangle:\", r.area())\n"
      ],
      "metadata": {
        "id": "IAF4iPM2tEWB"
      },
      "execution_count": null,
      "outputs": []
    },
    {
      "cell_type": "code",
      "source": [
        "# Q14: Inheritance with salary and bonus\n",
        "\n",
        "class Employee:\n",
        "    def calculate_salary(self, hours, rate):\n",
        "        return hours * rate\n",
        "\n",
        "class Manager(Employee):\n",
        "    def calculate_salary(self, hours, rate, bonus):\n",
        "        base_salary = super().calculate_salary(hours, rate)\n",
        "        return base_salary + bonus\n",
        "\n",
        "m = Manager()\n",
        "print(\"Manager salary:\", m.calculate_salary(40, 50, 500))\n"
      ],
      "metadata": {
        "id": "20Cc3jgktER5"
      },
      "execution_count": null,
      "outputs": []
    },
    {
      "cell_type": "code",
      "source": [
        "# Q15: Product class\n",
        "\n",
        "class Product:\n",
        "    def __init__(self, name, price, quantity):\n",
        "        self.name = name\n",
        "        self.price = price\n",
        "        self.quantity = quantity\n",
        "\n",
        "    def total_price(self):\n",
        "        return self.price * self.quantity\n",
        "\n",
        "p = Product(\"Pen\", 10, 5)\n",
        "print(\"Total price:\", p.total_price())\n"
      ],
      "metadata": {
        "id": "c0e2j2kPtENx"
      },
      "execution_count": null,
      "outputs": []
    },
    {
      "cell_type": "code",
      "source": [
        "# Q16: Abstract method example\n",
        "\n",
        "from abc import ABC, abstractmethod\n",
        "\n",
        "class Animal(ABC):\n",
        "    @abstractmethod\n",
        "    def sound(self):\n",
        "        pass\n",
        "\n",
        "class Cow(Animal):\n",
        "    def sound(self):\n",
        "        return \"Moo\"\n",
        "\n",
        "class Sheep(Animal):\n",
        "    def sound(self):\n",
        "        return \"Baa\"\n",
        "\n",
        "print(Cow().sound())\n",
        "print(Sheep().sound())\n"
      ],
      "metadata": {
        "id": "mPxhxKl3tEJA"
      },
      "execution_count": null,
      "outputs": []
    },
    {
      "cell_type": "code",
      "source": [
        "# Q17: Book with get_book_info\n",
        "\n",
        "class Book:\n",
        "    def __init__(self, title, author, year_published):\n",
        "        self.title = title\n",
        "        self.author = author\n",
        "        self.year_published = year_published\n",
        "\n",
        "    def get_book_info(self):\n",
        "        return f\"'{self.title}' by {self.author} ({self.year_published})\"\n",
        "\n",
        "b = Book(\"1984\", \"George Orwell\", 1949)\n",
        "print(b.get_book_info())\n"
      ],
      "metadata": {
        "id": "MJlM7yjctEFc"
      },
      "execution_count": null,
      "outputs": []
    },
    {
      "cell_type": "code",
      "source": [
        "# Q18: Inheritance with extra attribute\n",
        "\n",
        "class House:\n",
        "    def __init__(self, address, price):\n",
        "        self.address = address\n",
        "        self.price = price\n",
        "\n",
        "class Mansion(House):\n",
        "    def __init__(self, address, price, number_of_rooms):\n",
        "        super().__init__(address, price)\n",
        "        self.number_of_rooms = number_of_rooms\n",
        "\n",
        "m = Mansion(\"123 Luxury St\", 1000000, 10)\n",
        "print(m.address, m.price, m.number_of_rooms)\n"
      ],
      "metadata": {
        "id": "H-R0EN69tD91"
      },
      "execution_count": null,
      "outputs": []
    },
    {
      "cell_type": "code",
      "source": [],
      "metadata": {
        "id": "3Vw18b2AtDzx"
      },
      "execution_count": null,
      "outputs": []
    },
    {
      "cell_type": "code",
      "source": [],
      "metadata": {
        "id": "9QX3H3YqtDny"
      },
      "execution_count": null,
      "outputs": []
    }
  ]
}